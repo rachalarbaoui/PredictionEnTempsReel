{
  "nbformat": 4,
  "nbformat_minor": 0,
  "metadata": {
    "colab": {
      "name": "Automatic predictor weather context awareness RF.ipynb",
      "provenance": [],
      "collapsed_sections": []
    },
    "kernelspec": {
      "name": "python3",
      "display_name": "Python 3"
    },
    "language_info": {
      "name": "python"
    }
  },
  "cells": [
    {
      "cell_type": "code",
      "metadata": {
        "id": "5F6DslyYZzFo"
      },
      "source": [
        "import pandas as pd\n",
        "from sklearn.ensemble import RandomForestClassifier\n",
        "import pickle\n"
      ],
      "execution_count": null,
      "outputs": []
    },
    {
      "cell_type": "code",
      "metadata": {
        "colab": {
          "base_uri": "https://localhost:8080/"
        },
        "id": "-TfkRijwaUxN",
        "outputId": "ef53c3d0-4983-4083-c3af-b3b13b4a0e58"
      },
      "source": [
        "from google.colab import drive\n",
        "drive.mount('/content/Drive')"
      ],
      "execution_count": null,
      "outputs": [
        {
          "output_type": "stream",
          "text": [
            "Mounted at /content/Drive\n"
          ],
          "name": "stdout"
        }
      ]
    },
    {
      "cell_type": "markdown",
      "metadata": {
        "id": "POMBkMOamWgW"
      },
      "source": [
        "Dans ce détecteur automatique, nous essaierons d'automatiser le processus de classification.\n",
        "après les expériences précédentes, nous avons vu que la précision des modèles de perception sur texte dépasse le modèle général lorsque l'humidité est comprise entre 0 et 60 ([0,60]) mais la précision générale du modèle l'emporte lorsque l'humidité est comprise entre 61 et 100 ([61,100]) .\n",
        "nous allons donc créer une combinaison des trois premiers modèles d'approche de la conscience du contexte et du modèle général et classer par l'un des modèles en fonction de l'humidité.\n",
        "les étapes à suivre sont donc les suivantes:\n",
        "1. importer les quatre modèles et le jeu de données + préparer les données à intégrer dans nos modèles.\n",
        "2. choisissez au hasard une ligne à partir de celui-ci (au lieu de saisir les données manuellement)\n",
        "3. retirez la colonne de pluie demain et extrayez l'humidité de la rangée.\n",
        "4. classer le point de données (ligne) dans l'un des modèles en fonction de l'humidité (savoir s'il va pleuvoir demain ou non).\n",
        "5. imprimez s'il va pleuvoir demain ou non.\n",
        "******\n",
        "la séparation sera la suivante:\n",
        "1. Humidité [0,20]: modèle de prise de conscience du contexte 1.\n",
        "2. Humidité [21,40]: modèle de prise de conscience du contexte 2.\n",
        "3. Humidité [41,60]: modèle de prise de conscience du contexte 3.\n",
        "4. Humidité [61,100]: modèle général."
      ]
    },
    {
      "cell_type": "markdown",
      "metadata": {
        "id": "WMzd_NrjtMcJ"
      },
      "source": [
        "# 1. importer les quatre modèles et le jeu de données + préparer les données à intégrer dans nos modèles."
      ]
    },
    {
      "cell_type": "code",
      "metadata": {
        "id": "Y3CxB07PA_8K"
      },
      "source": [
        "CA_model1=pickle.load(open('/content/Drive/MyDrive/context awareness models/weather models/RF/model 1 context(Humidity) optimized acc_97_073.sav', 'rb'))\n",
        "CA_model2=pickle.load(open('/content/Drive/MyDrive/context awareness models/weather models/RF/model 2 context(Humidity) optimized acc_93_298.sav', 'rb'))\n",
        "CA_model3=pickle.load(open('/content/Drive/MyDrive/context awareness models/weather models/RF/model 3 context(Humidity) optimized acc_87_119.sav', 'rb'))\n",
        "G_model=pickle.load(open('/content/Drive/MyDrive/weather models/model_optimized_RandomForest_weather_84-494.sav', 'rb'))"
      ],
      "execution_count": null,
      "outputs": []
    },
    {
      "cell_type": "code",
      "metadata": {
        "id": "-HJrt838L0zG"
      },
      "source": [
        "df = pd.read_csv(\"/content/Drive/MyDrive/context awareness datasets/weather dataset/weatherAUS.csv\")\n"
      ],
      "execution_count": null,
      "outputs": []
    },
    {
      "cell_type": "code",
      "metadata": {
        "id": "roDrF02QZrAZ"
      },
      "source": [
        "df.RainToday[df.RainToday == 'Yes'] = 1\n",
        "df.RainToday[df.RainToday == 'No'] = 0\n",
        "\n",
        "df.RainTomorrow[df.RainTomorrow == 'Yes'] = 1\n",
        "df.RainTomorrow[df.RainTomorrow == 'No'] = 0"
      ],
      "execution_count": null,
      "outputs": []
    },
    {
      "cell_type": "code",
      "metadata": {
        "id": "o2pfQnA-hLC4"
      },
      "source": [
        "# remplir les valeurs manquantes pour les variables numériques avec la moyenne\n",
        "df[\"MinTemp\"]= df[\"MinTemp\"].fillna(df[\"MinTemp\"].mean())\n",
        "df[\"MaxTemp\"]= df[\"MaxTemp\"].fillna(df[\"MaxTemp\"].mean())\n",
        "df[\"Evaporation\"]= df[\"Evaporation\"].fillna(df[\"Evaporation\"].mean())\n",
        "df[\"Sunshine\"]= df[\"Sunshine\"].fillna(df[\"Sunshine\"].mean())\n",
        "df[\"WindGustSpeed\"]= df[\"WindGustSpeed\"].fillna(df[\"WindGustSpeed\"].mean())\n",
        "df[\"Rainfall\"]= df[\"Rainfall\"].fillna(df[\"Rainfall\"].mean())\n",
        "df[\"WindSpeed9am\"]= df[\"WindSpeed9am\"].fillna(df[\"WindSpeed9am\"].mean())\n",
        "df[\"WindSpeed3pm\"]= df[\"WindSpeed3pm\"].fillna(df[\"WindSpeed3pm\"].mean())\n",
        "df[\"Humidity9am\"]= df[\"Humidity9am\"].fillna(df[\"Humidity9am\"].mean())\n",
        "df[\"Humidity3pm\"]= df[\"Humidity3pm\"].fillna(df[\"Humidity3pm\"].mean())\n",
        "df[\"Pressure9am\"]= df[\"Pressure9am\"].fillna(df[\"Pressure9am\"].mean())\n",
        "df[\"Pressure3pm\"]= df[\"Pressure3pm\"].fillna(df[\"Pressure3pm\"].mean())\n",
        "df[\"Cloud9am\"]= df[\"Cloud9am\"].fillna(df[\"Cloud9am\"].mean())\n",
        "df[\"Cloud3pm\"]= df[\"Cloud3pm\"].fillna(df[\"Cloud3pm\"].mean())\n",
        "df[\"Temp9am\"]= df[\"Temp9am\"].fillna(df[\"Temp9am\"].mean())\n",
        "df[\"Temp3pm\"]= df[\"Temp3pm\"].fillna(df[\"Temp3pm\"].mean())"
      ],
      "execution_count": null,
      "outputs": []
    },
    {
      "cell_type": "code",
      "metadata": {
        "id": "hxkvlB07j2LC"
      },
      "source": [
        "#Remplir les valeurs manquantes pour les variables catégorielles avec mode\n",
        "df['RainToday']=df['RainToday'].fillna(df['RainToday'].mode()[0])\n",
        "df['RainTomorrow']=df['RainTomorrow'].fillna(df['RainTomorrow'].mode()[0])\n",
        "df['WindDir9am'] = df['WindDir9am'].fillna(df['WindDir9am'].mode()[0])\n",
        "df['WindGustDir'] = df['WindGustDir'].fillna(df['WindGustDir'].mode()[0])\n",
        "df['WindDir3pm'] = df['WindDir3pm'].fillna(df['WindDir3pm'].mode()[0])"
      ],
      "execution_count": null,
      "outputs": []
    },
    {
      "cell_type": "code",
      "metadata": {
        "id": "tuAMxn78kxKI"
      },
      "source": [
        "# # Suppression de colonnes hautement corrélées\n",
        "df=df.drop(['Temp3pm','Temp9am','Humidity9am','MaxTemp','Pressure3pm'],axis=1)\n"
      ],
      "execution_count": null,
      "outputs": []
    },
    {
      "cell_type": "code",
      "metadata": {
        "id": "WqAKHlLcsH4i"
      },
      "source": [
        "##transformer colonnes catégorielles en colonnes numériques à l'aide de l'encodeur d'étiquette\n",
        "from sklearn.preprocessing import LabelEncoder\n",
        "label_encoder = LabelEncoder()\n",
        "df[\"Location\"] = label_encoder.fit_transform(df[\"Location\"])\n",
        "df[\"WindDir9am\"]= label_encoder.fit_transform(df[\"WindDir9am\"])\n",
        "df[\"WindDir3pm\"]= label_encoder.fit_transform(df[\"WindDir3pm\"])\n",
        "df[\"WindGustDir\"] = label_encoder.fit_transform(df[\"WindGustDir\"])"
      ],
      "execution_count": null,
      "outputs": []
    },
    {
      "cell_type": "code",
      "metadata": {
        "id": "XiUXo7NU27gD"
      },
      "source": [
        "df['Date']= pd.to_datetime(df['Date'])"
      ],
      "execution_count": null,
      "outputs": []
    },
    {
      "cell_type": "code",
      "metadata": {
        "id": "HNysbC9u0Tt6"
      },
      "source": [
        "def to_season(m):\n",
        "    if ((m==12)|(m==1)|(m==2)):\n",
        "        return 1#\"winter\"\n",
        "    elif ((m==3)|(m==4)|(m==5)):\n",
        "        return 2#\"spring\"\n",
        "    elif ((m==6)|(m==7)|(m==8)):\n",
        "        return 3#\"summer\"\n",
        "    elif ((m==9)|(m==10)|(m==11)):\n",
        "        return 4#\"autumn\"\n",
        "\n",
        "df[\"Date\"] = df[\"Date\"].dt.month.map(to_season)\n",
        "\n"
      ],
      "execution_count": null,
      "outputs": []
    },
    {
      "cell_type": "code",
      "metadata": {
        "id": "oGB13Ws-0cqH"
      },
      "source": [
        "#maintenant ,nous allons renommer la colonne (Date => Season)\n",
        "df.rename(columns = {'Date': 'Season'}, inplace = True)\n"
      ],
      "execution_count": null,
      "outputs": []
    },
    {
      "cell_type": "code",
      "metadata": {
        "colab": {
          "base_uri": "https://localhost:8080/",
          "height": 204
        },
        "id": "98ppLbTg_xZx",
        "outputId": "4c2114b5-02ac-42e0-f930-e53c996d891d"
      },
      "source": [
        "df.head()"
      ],
      "execution_count": null,
      "outputs": [
        {
          "output_type": "execute_result",
          "data": {
            "text/html": [
              "<div>\n",
              "<style scoped>\n",
              "    .dataframe tbody tr th:only-of-type {\n",
              "        vertical-align: middle;\n",
              "    }\n",
              "\n",
              "    .dataframe tbody tr th {\n",
              "        vertical-align: top;\n",
              "    }\n",
              "\n",
              "    .dataframe thead th {\n",
              "        text-align: right;\n",
              "    }\n",
              "</style>\n",
              "<table border=\"1\" class=\"dataframe\">\n",
              "  <thead>\n",
              "    <tr style=\"text-align: right;\">\n",
              "      <th></th>\n",
              "      <th>Season</th>\n",
              "      <th>Location</th>\n",
              "      <th>MinTemp</th>\n",
              "      <th>Rainfall</th>\n",
              "      <th>Evaporation</th>\n",
              "      <th>Sunshine</th>\n",
              "      <th>WindGustDir</th>\n",
              "      <th>WindGustSpeed</th>\n",
              "      <th>WindDir9am</th>\n",
              "      <th>WindDir3pm</th>\n",
              "      <th>WindSpeed9am</th>\n",
              "      <th>WindSpeed3pm</th>\n",
              "      <th>Humidity3pm</th>\n",
              "      <th>Pressure9am</th>\n",
              "      <th>Cloud9am</th>\n",
              "      <th>Cloud3pm</th>\n",
              "      <th>RainToday</th>\n",
              "      <th>RainTomorrow</th>\n",
              "    </tr>\n",
              "  </thead>\n",
              "  <tbody>\n",
              "    <tr>\n",
              "      <th>0</th>\n",
              "      <td>1</td>\n",
              "      <td>2</td>\n",
              "      <td>13.4</td>\n",
              "      <td>0.6</td>\n",
              "      <td>5.468232</td>\n",
              "      <td>7.611178</td>\n",
              "      <td>13</td>\n",
              "      <td>44.0</td>\n",
              "      <td>13</td>\n",
              "      <td>14</td>\n",
              "      <td>20.0</td>\n",
              "      <td>24.0</td>\n",
              "      <td>22.0</td>\n",
              "      <td>1007.7</td>\n",
              "      <td>8.000000</td>\n",
              "      <td>4.50993</td>\n",
              "      <td>0</td>\n",
              "      <td>0</td>\n",
              "    </tr>\n",
              "    <tr>\n",
              "      <th>1</th>\n",
              "      <td>1</td>\n",
              "      <td>2</td>\n",
              "      <td>7.4</td>\n",
              "      <td>0.0</td>\n",
              "      <td>5.468232</td>\n",
              "      <td>7.611178</td>\n",
              "      <td>14</td>\n",
              "      <td>44.0</td>\n",
              "      <td>6</td>\n",
              "      <td>15</td>\n",
              "      <td>4.0</td>\n",
              "      <td>22.0</td>\n",
              "      <td>25.0</td>\n",
              "      <td>1010.6</td>\n",
              "      <td>4.447461</td>\n",
              "      <td>4.50993</td>\n",
              "      <td>0</td>\n",
              "      <td>0</td>\n",
              "    </tr>\n",
              "    <tr>\n",
              "      <th>2</th>\n",
              "      <td>1</td>\n",
              "      <td>2</td>\n",
              "      <td>12.9</td>\n",
              "      <td>0.0</td>\n",
              "      <td>5.468232</td>\n",
              "      <td>7.611178</td>\n",
              "      <td>15</td>\n",
              "      <td>46.0</td>\n",
              "      <td>13</td>\n",
              "      <td>15</td>\n",
              "      <td>19.0</td>\n",
              "      <td>26.0</td>\n",
              "      <td>30.0</td>\n",
              "      <td>1007.6</td>\n",
              "      <td>4.447461</td>\n",
              "      <td>2.00000</td>\n",
              "      <td>0</td>\n",
              "      <td>0</td>\n",
              "    </tr>\n",
              "    <tr>\n",
              "      <th>3</th>\n",
              "      <td>1</td>\n",
              "      <td>2</td>\n",
              "      <td>9.2</td>\n",
              "      <td>0.0</td>\n",
              "      <td>5.468232</td>\n",
              "      <td>7.611178</td>\n",
              "      <td>4</td>\n",
              "      <td>24.0</td>\n",
              "      <td>9</td>\n",
              "      <td>0</td>\n",
              "      <td>11.0</td>\n",
              "      <td>9.0</td>\n",
              "      <td>16.0</td>\n",
              "      <td>1017.6</td>\n",
              "      <td>4.447461</td>\n",
              "      <td>4.50993</td>\n",
              "      <td>0</td>\n",
              "      <td>0</td>\n",
              "    </tr>\n",
              "    <tr>\n",
              "      <th>4</th>\n",
              "      <td>1</td>\n",
              "      <td>2</td>\n",
              "      <td>17.5</td>\n",
              "      <td>1.0</td>\n",
              "      <td>5.468232</td>\n",
              "      <td>7.611178</td>\n",
              "      <td>13</td>\n",
              "      <td>41.0</td>\n",
              "      <td>1</td>\n",
              "      <td>7</td>\n",
              "      <td>7.0</td>\n",
              "      <td>20.0</td>\n",
              "      <td>33.0</td>\n",
              "      <td>1010.8</td>\n",
              "      <td>7.000000</td>\n",
              "      <td>8.00000</td>\n",
              "      <td>0</td>\n",
              "      <td>0</td>\n",
              "    </tr>\n",
              "  </tbody>\n",
              "</table>\n",
              "</div>"
            ],
            "text/plain": [
              "   Season  Location  MinTemp  ...  Cloud3pm  RainToday  RainTomorrow\n",
              "0       1         2     13.4  ...   4.50993          0             0\n",
              "1       1         2      7.4  ...   4.50993          0             0\n",
              "2       1         2     12.9  ...   2.00000          0             0\n",
              "3       1         2      9.2  ...   4.50993          0             0\n",
              "4       1         2     17.5  ...   8.00000          0             0\n",
              "\n",
              "[5 rows x 18 columns]"
            ]
          },
          "metadata": {
            "tags": []
          },
          "execution_count": 14
        }
      ]
    },
    {
      "cell_type": "markdown",
      "metadata": {
        "id": "tnJCq_B6taXx"
      },
      "source": [
        "#2.choisissez au hasard une ligne à partir de celui-ci (au lieu de saisir les données manuellement)    "
      ]
    },
    {
      "cell_type": "code",
      "metadata": {
        "colab": {
          "base_uri": "https://localhost:8080/",
          "height": 80
        },
        "id": "sBsuOkdDbGB5",
        "outputId": "82fe5295-24ad-40f7-a1e3-3563f76f9708"
      },
      "source": [
        "data_point = df.sample()\n",
        "data_point"
      ],
      "execution_count": null,
      "outputs": [
        {
          "output_type": "execute_result",
          "data": {
            "text/html": [
              "<div>\n",
              "<style scoped>\n",
              "    .dataframe tbody tr th:only-of-type {\n",
              "        vertical-align: middle;\n",
              "    }\n",
              "\n",
              "    .dataframe tbody tr th {\n",
              "        vertical-align: top;\n",
              "    }\n",
              "\n",
              "    .dataframe thead th {\n",
              "        text-align: right;\n",
              "    }\n",
              "</style>\n",
              "<table border=\"1\" class=\"dataframe\">\n",
              "  <thead>\n",
              "    <tr style=\"text-align: right;\">\n",
              "      <th></th>\n",
              "      <th>Season</th>\n",
              "      <th>Location</th>\n",
              "      <th>MinTemp</th>\n",
              "      <th>Rainfall</th>\n",
              "      <th>Evaporation</th>\n",
              "      <th>Sunshine</th>\n",
              "      <th>WindGustDir</th>\n",
              "      <th>WindGustSpeed</th>\n",
              "      <th>WindDir9am</th>\n",
              "      <th>WindDir3pm</th>\n",
              "      <th>WindSpeed9am</th>\n",
              "      <th>WindSpeed3pm</th>\n",
              "      <th>Humidity3pm</th>\n",
              "      <th>Pressure9am</th>\n",
              "      <th>Cloud9am</th>\n",
              "      <th>Cloud3pm</th>\n",
              "      <th>RainToday</th>\n",
              "      <th>RainTomorrow</th>\n",
              "    </tr>\n",
              "  </thead>\n",
              "  <tbody>\n",
              "    <tr>\n",
              "      <th>82590</th>\n",
              "      <td>3</td>\n",
              "      <td>12</td>\n",
              "      <td>5.5</td>\n",
              "      <td>3.8</td>\n",
              "      <td>1.8</td>\n",
              "      <td>4.1</td>\n",
              "      <td>3</td>\n",
              "      <td>48.0</td>\n",
              "      <td>3</td>\n",
              "      <td>14</td>\n",
              "      <td>22.0</td>\n",
              "      <td>15.0</td>\n",
              "      <td>95.0</td>\n",
              "      <td>1008.1</td>\n",
              "      <td>4.447461</td>\n",
              "      <td>4.50993</td>\n",
              "      <td>1</td>\n",
              "      <td>1</td>\n",
              "    </tr>\n",
              "  </tbody>\n",
              "</table>\n",
              "</div>"
            ],
            "text/plain": [
              "       Season  Location  MinTemp  ...  Cloud3pm  RainToday  RainTomorrow\n",
              "82590       3        12      5.5  ...   4.50993          1             1\n",
              "\n",
              "[1 rows x 18 columns]"
            ]
          },
          "metadata": {
            "tags": []
          },
          "execution_count": 29
        }
      ]
    },
    {
      "cell_type": "markdown",
      "metadata": {
        "id": "Tx3hN_zBvSdM"
      },
      "source": [
        "#3. retirez la colonne de pluie demain et extrayez l'humidité de la rangée."
      ]
    },
    {
      "cell_type": "code",
      "metadata": {
        "colab": {
          "base_uri": "https://localhost:8080/",
          "height": 80
        },
        "id": "VmTIU7mBb09L",
        "outputId": "c58dc3ec-7e6c-48bb-b1d3-3361340450c3"
      },
      "source": [
        "X=data_point.drop(\"RainTomorrow\", axis = 1)\n",
        "humidity=X.iloc[0]['Humidity3pm']\n",
        "X"
      ],
      "execution_count": null,
      "outputs": [
        {
          "output_type": "execute_result",
          "data": {
            "text/html": [
              "<div>\n",
              "<style scoped>\n",
              "    .dataframe tbody tr th:only-of-type {\n",
              "        vertical-align: middle;\n",
              "    }\n",
              "\n",
              "    .dataframe tbody tr th {\n",
              "        vertical-align: top;\n",
              "    }\n",
              "\n",
              "    .dataframe thead th {\n",
              "        text-align: right;\n",
              "    }\n",
              "</style>\n",
              "<table border=\"1\" class=\"dataframe\">\n",
              "  <thead>\n",
              "    <tr style=\"text-align: right;\">\n",
              "      <th></th>\n",
              "      <th>Season</th>\n",
              "      <th>Location</th>\n",
              "      <th>MinTemp</th>\n",
              "      <th>Rainfall</th>\n",
              "      <th>Evaporation</th>\n",
              "      <th>Sunshine</th>\n",
              "      <th>WindGustDir</th>\n",
              "      <th>WindGustSpeed</th>\n",
              "      <th>WindDir9am</th>\n",
              "      <th>WindDir3pm</th>\n",
              "      <th>WindSpeed9am</th>\n",
              "      <th>WindSpeed3pm</th>\n",
              "      <th>Humidity3pm</th>\n",
              "      <th>Pressure9am</th>\n",
              "      <th>Cloud9am</th>\n",
              "      <th>Cloud3pm</th>\n",
              "      <th>RainToday</th>\n",
              "    </tr>\n",
              "  </thead>\n",
              "  <tbody>\n",
              "    <tr>\n",
              "      <th>82590</th>\n",
              "      <td>3</td>\n",
              "      <td>12</td>\n",
              "      <td>5.5</td>\n",
              "      <td>3.8</td>\n",
              "      <td>1.8</td>\n",
              "      <td>4.1</td>\n",
              "      <td>3</td>\n",
              "      <td>48.0</td>\n",
              "      <td>3</td>\n",
              "      <td>14</td>\n",
              "      <td>22.0</td>\n",
              "      <td>15.0</td>\n",
              "      <td>95.0</td>\n",
              "      <td>1008.1</td>\n",
              "      <td>4.447461</td>\n",
              "      <td>4.50993</td>\n",
              "      <td>1</td>\n",
              "    </tr>\n",
              "  </tbody>\n",
              "</table>\n",
              "</div>"
            ],
            "text/plain": [
              "       Season  Location  MinTemp  ...  Cloud9am  Cloud3pm  RainToday\n",
              "82590       3        12      5.5  ...  4.447461   4.50993          1\n",
              "\n",
              "[1 rows x 17 columns]"
            ]
          },
          "metadata": {
            "tags": []
          },
          "execution_count": 30
        }
      ]
    },
    {
      "cell_type": "markdown",
      "metadata": {
        "id": "IXKE0YS3vodf"
      },
      "source": [
        "#4. classer le point de données (ligne) dans l'un des modèles en fonction de l'humidité (savoir s'il va pleuvoir demain ou pas)."
      ]
    },
    {
      "cell_type": "code",
      "metadata": {
        "id": "zPT3cjp3cU5B"
      },
      "source": [
        "if (humidity <=20):\n",
        "  prediction=CA_model1.predict(X)\n",
        "elif ((humidity >20 ) & (humidity <=40)):\n",
        "  prediction=CA_model2.predict(X)\n",
        "elif ((humidity >40 ) & (humidity <=60)):\n",
        "  prediction=CA_model3.predict(X)\n",
        "elif (humidity >60):\n",
        "  prediction=G_model.predict(X)\n"
      ],
      "execution_count": null,
      "outputs": []
    },
    {
      "cell_type": "markdown",
      "metadata": {
        "id": "1AKeQx-0wolp"
      },
      "source": [
        "#5. Pr.édire s'il va pleuvoir demain ou pas !!!"
      ]
    },
    {
      "cell_type": "code",
      "metadata": {
        "colab": {
          "base_uri": "https://localhost:8080/"
        },
        "id": "NI54m90Kje5k",
        "outputId": "742ce541-0db1-4835-a6e8-5b2e374a5ed1"
      },
      "source": [
        "if (prediction[0]==1) : \n",
        "  print(\"It's going to rain tomorrow ☔\")\n",
        "else :\n",
        "  print (\"It's NOT going to rain tomorrow ☀\")"
      ],
      "execution_count": null,
      "outputs": [
        {
          "output_type": "stream",
          "text": [
            "It's going to rain tomorrow ☔\n"
          ],
          "name": "stdout"
        }
      ]
    }
  ]
}